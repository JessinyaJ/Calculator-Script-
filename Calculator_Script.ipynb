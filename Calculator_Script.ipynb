{
  "nbformat": 4,
  "nbformat_minor": 0,
  "metadata": {
    "colab": {
      "name": "Calculator Script.ipynb",
      "provenance": [],
      "authorship_tag": "ABX9TyMmI8Tm2xbwPyRB7Ybfp8dA",
      "include_colab_link": true
    },
    "kernelspec": {
      "name": "python3",
      "display_name": "Python 3"
    },
    "language_info": {
      "name": "python"
    }
  },
  "cells": [
    {
      "cell_type": "markdown",
      "metadata": {
        "id": "view-in-github",
        "colab_type": "text"
      },
      "source": [
        "<a href=\"https://colab.research.google.com/github/JessinyaJ/Calculator-Script-/blob/main/Calculator_Script.ipynb\" target=\"_parent\"><img src=\"https://colab.research.google.com/assets/colab-badge.svg\" alt=\"Open In Colab\"/></a>"
      ]
    },
    {
      "cell_type": "code",
      "metadata": {
        "id": "fTy_Hi9BYXKQ"
      },
      "source": [
        "Calculator Script\n",
        "A simple calculator to perform binary mathematical operations."
      ],
      "execution_count": null,
      "outputs": []
    },
    {
      "cell_type": "code",
      "metadata": {
        "id": "2BRfVbntZmjv"
      },
      "source": [
        "\n",
        "def add(a,b):\n",
        "  return a + b\n",
        "# The function presented above takes two values; a and b & returns the value of a + b. \n",
        "def sub(a,b):\n",
        "  return a - b\n",
        "# The function presented above takes values a & b and produces the value of a - b. \n",
        "def multiply(a,b):\n",
        "  return a * b\n",
        "# This function takes values a and b and produces the value of a * b. \n",
        "def divide(a,b):\n",
        "  return a/b\n",
        "# This function takes values a and b and produces the value of a/b. \n"
      ],
      "execution_count": null,
      "outputs": []
    },
    {
      "cell_type": "code",
      "metadata": {
        "id": "T-Cq5X0gdKXg"
      },
      "source": [
        "def calc():\n",
        "  is_running = True\n",
        "  result = 0 \n",
        "  save = False \n",
        "# If the calcultor is running, then the value will be equialent to True. The result is equal to 0 and if the user wishes to save the given result/computation, then it will be equivalent to false. This occurs as 0 is the default value for the calculator. \n",
        "  while is_running:\n",
        "    operation = input('Enter a mathematical operator (+, -, *, /) [PRESS Q TO QUIT]: ')\n",
        "\n",
        "    if operation == 'Q':\n",
        "      break \n",
        "\n",
        "# The user has an option to enter a mathematical operator or quit by pressing Q. By clicking the Q code, the while loop is broken. \n",
        "\n",
        "    if not save:\n",
        "      op1 = float(input('Enter the first operand:  '))\n",
        "    else:\n",
        "      op1 = result\n",
        "    op2 = float(input('Enter the second operand:  '))  \n",
        "    #This code will check which operation the user requested\n",
        "    if operation == '+':\n",
        "      result = add(op1, op2)\n",
        "      print('This result is', result)\n",
        "#If the user wants to add, the result will be opl added to op2. \n",
        "    elif operation == '-':\n",
        "      result = sub(op1, op2)\n",
        "      print('The result is', result)\n",
        "    elif operation == '*':\n",
        "      result = multiply(op1, op2)\n",
        "      print('The result is', result )\n",
        "    elif operation == '/':\n",
        "      result = divide(op1, op2)\n",
        "      print('The result is', result)\n",
        "    else:\n",
        "      print(operation, 'is an invalid operation')\n",
        "#If the user inputs an operation that is dissimilar to the oprators listed, then the code will print that the operation is invalid. \n",
        "    temp = input('Would you like to save the previous value [Y/N]? [PRESS Q TO QUIT]: ')\n",
        "    if temp == 'Y':\n",
        "      save = True \n",
        "    elif temp == 'Q':\n",
        "      break \n",
        "    else:\n",
        "        save = False \n",
        "# A choice is inputted, asking the user if they want to save their compuation or quit, breaking the code altogether. \n",
        "\n",
        "\n",
        "  \n",
        "    \n"
      ],
      "execution_count": null,
      "outputs": []
    },
    {
      "cell_type": "code",
      "metadata": {
        "colab": {
          "base_uri": "https://localhost:8080/"
        },
        "id": "7J7vri6Ind8N",
        "outputId": "a94bc300-c015-4404-818f-0e7256b38537"
      },
      "source": [
        "calc()"
      ],
      "execution_count": null,
      "outputs": [
        {
          "output_type": "stream",
          "text": [
            "Enter a mathematical operator (+, -, *, /) [PRESS Q TO QUIT]: /\n",
            "Enter the first operand:  16\n",
            "Enter the second operand:  4\n",
            "The result is 4.0\n",
            "Would you like to save the previous value [Y/N]? [PRESS Q TO QUIT]: Y\n",
            "Enter a mathematical operator (+, -, *, /) [PRESS Q TO QUIT]: *\n",
            "Enter the second operand:  3\n",
            "The result is 12.0\n"
          ],
          "name": "stdout"
        }
      ]
    }
  ]
}